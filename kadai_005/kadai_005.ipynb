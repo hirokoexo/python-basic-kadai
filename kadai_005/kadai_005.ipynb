{
  "nbformat": 4,
  "nbformat_minor": 0,
  "metadata": {
    "colab": {
      "provenance": [],
      "gpuType": "T4"
    },
    "kernelspec": {
      "name": "python3",
      "display_name": "Python 3"
    },
    "language_info": {
      "name": "python"
    }
  },
  "cells": [
    {
      "cell_type": "code",
      "source": [
        "upper_side = 10 #上辺\n",
        "lower_side = 20 #下辺\n",
        "height = 5 #高さ\n",
        "\n",
        "trapezoid_area = (upper_side + lower_side) * height / 2 #台形の面積\n",
        "\n",
        "print(str(trapezoid_area) +'cm²')"
      ],
      "metadata": {
        "colab": {
          "base_uri": "https://localhost:8080/"
        },
        "id": "yS0XlYM3bHEB",
        "outputId": "f96bb6c3-c152-48a2-807d-f4b40e29902c"
      },
      "execution_count": 4,
      "outputs": [
        {
          "output_type": "stream",
          "name": "stdout",
          "text": [
            "75.0cm²\n"
          ]
        }
      ]
    },
    {
      "cell_type": "code",
      "source": [],
      "metadata": {
        "id": "HsCRRvpYcfnk"
      },
      "execution_count": null,
      "outputs": []
    }
  ]
}